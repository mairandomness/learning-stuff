{
 "cells": [
  {
   "cell_type": "code",
   "execution_count": 1,
   "metadata": {
    "collapsed": false
   },
   "outputs": [
    {
     "name": "stdout",
     "output_type": "stream",
     "text": [
      "[['', 'year', 'month', 'intent', 'police', 'sex', 'age', 'race', 'hispanic', 'place', 'education'], ['1', '2012', '01', 'Suicide', '0', 'M', '34', 'Asian/Pacific Islander', '100', 'Home', '4'], ['2', '2012', '01', 'Suicide', '0', 'F', '21', 'White', '100', 'Street', '3'], ['3', '2012', '01', 'Suicide', '0', 'M', '60', 'White', '100', 'Other specified', '4'], ['4', '2012', '02', 'Suicide', '0', 'M', '64', 'White', '100', 'Home', '4']]\n"
     ]
    }
   ],
   "source": [
    "import csv\n",
    "\n",
    "f = open(\"guns.csv\")\n",
    "g = csv.reader(f)\n",
    "data = list(g)\n",
    "\n",
    "print(data[:5])"
   ]
  },
  {
   "cell_type": "code",
   "execution_count": 2,
   "metadata": {
    "collapsed": false
   },
   "outputs": [
    {
     "name": "stdout",
     "output_type": "stream",
     "text": [
      "['', 'year', 'month', 'intent', 'police', 'sex', 'age', 'race', 'hispanic', 'place', 'education']\n",
      "[['1', '2012', '01', 'Suicide', '0', 'M', '34', 'Asian/Pacific Islander', '100', 'Home', '4'], ['2', '2012', '01', 'Suicide', '0', 'F', '21', 'White', '100', 'Street', '3'], ['3', '2012', '01', 'Suicide', '0', 'M', '60', 'White', '100', 'Other specified', '4'], ['4', '2012', '02', 'Suicide', '0', 'M', '64', 'White', '100', 'Home', '4'], ['5', '2012', '02', 'Suicide', '0', 'M', '31', 'White', '100', 'Other specified', '2']]\n"
     ]
    }
   ],
   "source": [
    "headers = data[0]\n",
    "print(headers)\n",
    "data = data[1:]\n",
    "print(data[:5])"
   ]
  },
  {
   "cell_type": "code",
   "execution_count": 3,
   "metadata": {
    "collapsed": false
   },
   "outputs": [
    {
     "name": "stdout",
     "output_type": "stream",
     "text": [
      "{'2013': 33636, '2014': 33599, '2012': 33563}\n"
     ]
    }
   ],
   "source": [
    "years = []\n",
    "for case in data:\n",
    "    years.append(case[1])\n",
    "year_counts = {}\n",
    "\n",
    "for year in years:\n",
    "    if year in year_counts:\n",
    "        year_counts[year] += 1\n",
    "    else:\n",
    "        year_counts[year] = 1\n",
    "print(year_counts)\n",
    "        \n",
    "    "
   ]
  },
  {
   "cell_type": "code",
   "execution_count": 5,
   "metadata": {
    "collapsed": false
   },
   "outputs": [
    {
     "name": "stdout",
     "output_type": "stream",
     "text": [
      "[datetime.datetime(2012, 1, 1, 0, 0), datetime.datetime(2012, 1, 1, 0, 0), datetime.datetime(2012, 1, 1, 0, 0), datetime.datetime(2012, 2, 1, 0, 0), datetime.datetime(2012, 2, 1, 0, 0)]\n",
      "{datetime.datetime(2013, 3, 1, 0, 0): 2862, datetime.datetime(2013, 12, 1, 0, 0): 2765, datetime.datetime(2012, 8, 1, 0, 0): 2954, datetime.datetime(2013, 1, 1, 0, 0): 2864, datetime.datetime(2013, 11, 1, 0, 0): 2758, datetime.datetime(2014, 5, 1, 0, 0): 2864, datetime.datetime(2013, 6, 1, 0, 0): 2920, datetime.datetime(2012, 12, 1, 0, 0): 2791, datetime.datetime(2012, 9, 1, 0, 0): 2852, datetime.datetime(2013, 7, 1, 0, 0): 3079, datetime.datetime(2012, 3, 1, 0, 0): 2743, datetime.datetime(2014, 10, 1, 0, 0): 2865, datetime.datetime(2013, 8, 1, 0, 0): 2859, datetime.datetime(2014, 9, 1, 0, 0): 2914, datetime.datetime(2014, 4, 1, 0, 0): 2862, datetime.datetime(2012, 10, 1, 0, 0): 2733, datetime.datetime(2012, 1, 1, 0, 0): 2758, datetime.datetime(2012, 5, 1, 0, 0): 2999, datetime.datetime(2012, 11, 1, 0, 0): 2729, datetime.datetime(2014, 11, 1, 0, 0): 2756, datetime.datetime(2012, 2, 1, 0, 0): 2357, datetime.datetime(2013, 4, 1, 0, 0): 2798, datetime.datetime(2012, 6, 1, 0, 0): 2826, datetime.datetime(2014, 8, 1, 0, 0): 2970, datetime.datetime(2014, 1, 1, 0, 0): 2651, datetime.datetime(2012, 4, 1, 0, 0): 2795, datetime.datetime(2014, 6, 1, 0, 0): 2931, datetime.datetime(2013, 9, 1, 0, 0): 2742, datetime.datetime(2014, 2, 1, 0, 0): 2361, datetime.datetime(2013, 10, 1, 0, 0): 2808, datetime.datetime(2014, 12, 1, 0, 0): 2857, datetime.datetime(2014, 7, 1, 0, 0): 2884, datetime.datetime(2014, 3, 1, 0, 0): 2684, datetime.datetime(2012, 7, 1, 0, 0): 3026, datetime.datetime(2013, 5, 1, 0, 0): 2806, datetime.datetime(2013, 2, 1, 0, 0): 2375}\n"
     ]
    }
   ],
   "source": [
    "from datetime import datetime\n",
    "dates = []\n",
    "for case in data:\n",
    "    dates.append(datetime(year = int(case[1]), month = int(case[2]), day = 1))\n",
    "print(dates[:5])\n",
    "\n",
    "date_counts = {}\n",
    "\n",
    "for date in dates:\n",
    "    if date in date_counts:\n",
    "        date_counts[date] += 1\n",
    "    else:\n",
    "        date_counts[date] = 1\n",
    "print(date_counts)\n",
    "    "
   ]
  },
  {
   "cell_type": "code",
   "execution_count": 7,
   "metadata": {
    "collapsed": false
   },
   "outputs": [
    {
     "name": "stdout",
     "output_type": "stream",
     "text": [
      "{'F': 14449, 'M': 86349}\n",
      "{'Hispanic': 9022, 'Native American/Native Alaskan': 917, 'Black': 23296, 'Asian/Pacific Islander': 1326, 'White': 66237}\n"
     ]
    }
   ],
   "source": [
    "sex_counts = {}\n",
    "race_counts = {}\n",
    "\n",
    "for case in data:\n",
    "    if case[5] in sex_counts:\n",
    "        sex_counts[case[5]] += 1\n",
    "    else:\n",
    "        sex_counts[case[5]] = 1\n",
    "for case in data:\n",
    "    if case[7] in race_counts:\n",
    "        race_counts[case[7]] += 1\n",
    "    else:\n",
    "        race_counts[case[7]] = 1\n",
    "print(sex_counts)\n",
    "print(race_counts)\n",
    "        "
   ]
  },
  {
   "cell_type": "code",
   "execution_count": 9,
   "metadata": {
    "collapsed": false
   },
   "outputs": [
    {
     "name": "stdout",
     "output_type": "stream",
     "text": [
      "[['Id', 'Year', 'Id', 'Sex', 'Id', 'Hispanic Origin', 'Id', 'Id2', 'Geography', 'Total', 'Race Alone - White', 'Race Alone - Hispanic', 'Race Alone - Black or African American', 'Race Alone - American Indian and Alaska Native', 'Race Alone - Asian', 'Race Alone - Native Hawaiian and Other Pacific Islander', 'Two or More Races'], ['cen42010', 'April 1, 2010 Census', 'totsex', 'Both Sexes', 'tothisp', 'Total', '0100000US', '', 'United States', '308745538', '197318956', '44618105', '40250635', '3739506', '15159516', '674625', '6984195']]\n"
     ]
    }
   ],
   "source": [
    "f = open(\"census.csv\")\n",
    "g = csv.reader(f)\n",
    "census = list(g)\n",
    "\n",
    "print(census)"
   ]
  },
  {
   "cell_type": "code",
   "execution_count": 15,
   "metadata": {
    "collapsed": false
   },
   "outputs": [
    {
     "name": "stdout",
     "output_type": "stream",
     "text": [
      "{'Hispanic': 2.022049121091091, 'Native American/Native Alaskan': 2.452195557381109, 'White': 3.356849303419181, 'Asian/Pacific Islander': 0.8374309664161763, 'Black': 5.78773477735196}\n"
     ]
    }
   ],
   "source": [
    "mapping = {\n",
    "    \"Asian/Pacific Islander\" : 674625 + 15159516,\n",
    "    \"Black\" : 40250635,\n",
    "    \"Native American/Native Alaskan\" : 3739506,\n",
    "    \"Hispanic\" : 44618105,\n",
    "    \"White\" : 197318956\n",
    "}\n",
    "\n",
    "race_per_hundredk = {}\n",
    "for key in race_counts:\n",
    "    race_per_hundredk[key] = race_counts[key]/mapping[key] * 10000\n",
    "print(race_per_hundredk)\n",
    "    "
   ]
  },
  {
   "cell_type": "code",
   "execution_count": 23,
   "metadata": {
    "collapsed": false
   },
   "outputs": [
    {
     "name": "stdout",
     "output_type": "stream",
     "text": [
      "{'Hispanic': 5634, 'Native American/Native Alaskan': 326, 'Black': 19510, 'Asian/Pacific Islander': 559, 'White': 9147}\n",
      "{'Hispanic': 1.2627161104219913, 'Native American/Native Alaskan': 0.8717729026240364, 'White': 0.46356417981453335, 'Asian/Pacific Islander': 0.3530346230970155, 'Black': 4.847128498718095}\n"
     ]
    }
   ],
   "source": [
    "intents = []\n",
    "races = []\n",
    "for case in data:\n",
    "    intents.append(case[3])\n",
    "    races.append(case[7])\n",
    "homicide_race_counts = {}\n",
    "for i, race in enumerate(races):\n",
    "    if intents[i] == \"Homicide\":\n",
    "        if race in homicide_race_counts:\n",
    "            homicide_race_counts[race] += 1\n",
    "        else:\n",
    "            homicide_race_counts[race] = 1\n",
    "\n",
    "print(homicide_race_counts)\n",
    "            \n",
    "homicide_race_hundredk = {}\n",
    "for key in homicide_race_counts:\n",
    "    homicide_race_hundredk[key] = homicide_race_counts[key]/mapping[key] * 10000\n",
    "print(homicide_race_hundredk)\n",
    "    "
   ]
  },
  {
   "cell_type": "markdown",
   "metadata": {},
   "source": [
    "##Exploring Gun Deaths in the US\n",
    "\n",
    "The dataset came from FiveThirtyEight, and can be found here. The dataset is stored in the guns.csv file. It contains information on gun deaths in the US from 2012 to 2014. Each row in the dataset represents a single fatality. The columns contain demographic and other information about the victim. Here are the first few rows of the dataset:\n",
    "\n",
    "year\tmonth\tintent\tpolice\tsex\tage\trace\thispanic\tplace\teducation\n",
    "1\t2012\t1\tSuicide\t0\tM\t34.0\tAsian/Pacific Islander\t100\tHome\t4.0\n",
    "2\t2012\t1\tSuicide\t0\tF\t21.0\tWhite\t100\tStreet\t3.0\n",
    "3\t2012\t1\tSuicide\t0\tM\t60.0\tWhite\t100\tOther specified\t4.0\n",
    "4\t2012\t2\tSuicide\t0\tM\t64.0\tWhite\t100\tHome\t4.0\n",
    "5\t2012\t2\tSuicide\t0\tM\t31.0\tWhite\t100\tOther specified\t2.0\n",
    "As you can see above, the first row of the data is a header row, which tells you what kind of data is in each column of the CSV file. Each row contains information about the fatality, and the victim. Here's an explanation of each column:\n",
    "\n",
    "- -- this is an identifier column, which contains the row number. It's common in CSV files to include a unique identifier for each row, but we can ignore it in this analysis.\n",
    "- year -- the year in which the fatality occurred.\n",
    "- month -- the month in which the fatality occurred.\n",
    "- intent -- the intent of the perpetrator of the crime. This can be Suicide, Accidental, NA, Homicide, or Undetermined.\n",
    "- police -- whether a police officer was involved with the shooting. Either 0 (false) or 1 (true).\n",
    "- sex -- the gender of the victim. Either M or F.\n",
    "- age -- the age of the victim.\n",
    "- race -- the race of the victim. Either Asian/Pacific Islander, Native American/Native Alaskan, Black, Hispanic, or White.\n",
    "- hispanic -- a code indicating the Hispanic origin of the victim.\n",
    "- place -- where the shooting occurred. Has several categories, which you're encouraged to explore on your own.\n",
    "- education -- educational status of the victim. Can be one of the following:\n",
    "1 -- Less than High School\n",
    "2 -- Graduated from High School or equivalent\n",
    "3 -- Some College\n",
    "4 -- At least graduated from College\n",
    "5 -- Not available\n",
    "\n",
    "In this project, we'll explore the dataset, and try to find patterns in the demographics of the victims. Our first step is to read the data in and take a look at it.## Exploring Gun Deaths in the US\n",
    "    When analyzing the number of homicides by gun in the US, we see that the highest ammount of victims are Black and comparing it to the number of people of that race to live in said country, Blacks present the most alarming rate.\n",
    "    Justifying movements like BlackLivesMatter... Since statistically, they don't really seem to."
   ]
  }
 ],
 "metadata": {
  "kernelspec": {
   "display_name": "Python 3",
   "language": "python",
   "name": "python3"
  },
  "language_info": {
   "codemirror_mode": {
    "name": "ipython",
    "version": 3
   },
   "file_extension": ".py",
   "mimetype": "text/x-python",
   "name": "python",
   "nbconvert_exporter": "python",
   "pygments_lexer": "ipython3",
   "version": "3.4.3"
  }
 },
 "nbformat": 4,
 "nbformat_minor": 0
}
